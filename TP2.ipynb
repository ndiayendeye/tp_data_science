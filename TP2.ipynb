{
 "cells": [
  {
   "cell_type": "markdown",
   "id": "ddd309c2",
   "metadata": {},
   "source": [
    "## Membre du groupe\n",
    "## NDEYE NDIAYE\n",
    "## ROKHAYA FALL\n",
    "## YASSINE MOUHAMET BACHIR NDIAYE"
   ]
  },
  {
   "cell_type": "code",
   "execution_count": 1,
   "id": "06f6a43d",
   "metadata": {},
   "outputs": [],
   "source": [
    "import pandas as pd\n",
    "import numpy as np\n",
    "from pandas impoort Series"
   ]
  },
  {
   "cell_type": "markdown",
   "id": "45a0c0d6",
   "metadata": {},
   "source": [
    "# exercice1"
   ]
  },
  {
   "cell_type": "markdown",
   "id": "c94ae0cf",
   "metadata": {},
   "source": [
    "##  1. creation de dataframe"
   ]
  },
  {
   "cell_type": "code",
   "execution_count": 2,
   "id": "a941d967",
   "metadata": {
    "collapsed": true
   },
   "outputs": [
    {
     "data": {
      "text/html": [
       "<div>\n",
       "<style scoped>\n",
       "    .dataframe tbody tr th:only-of-type {\n",
       "        vertical-align: middle;\n",
       "    }\n",
       "\n",
       "    .dataframe tbody tr th {\n",
       "        vertical-align: top;\n",
       "    }\n",
       "\n",
       "    .dataframe thead th {\n",
       "        text-align: right;\n",
       "    }\n",
       "</style>\n",
       "<table border=\"1\" class=\"dataframe\">\n",
       "  <thead>\n",
       "    <tr style=\"text-align: right;\">\n",
       "      <th></th>\n",
       "      <th>Nom</th>\n",
       "      <th>Age</th>\n",
       "      <th>Poids</th>\n",
       "      <th>Taille</th>\n",
       "      <th>Genre</th>\n",
       "    </tr>\n",
       "  </thead>\n",
       "  <tbody>\n",
       "    <tr>\n",
       "      <th>0</th>\n",
       "      <td>Doudou</td>\n",
       "      <td>10</td>\n",
       "      <td>75</td>\n",
       "      <td>4.5</td>\n",
       "      <td>M</td>\n",
       "    </tr>\n",
       "    <tr>\n",
       "      <th>1</th>\n",
       "      <td>Amy</td>\n",
       "      <td>15</td>\n",
       "      <td>123</td>\n",
       "      <td>5.0</td>\n",
       "      <td>F</td>\n",
       "    </tr>\n",
       "    <tr>\n",
       "      <th>2</th>\n",
       "      <td>Moussa</td>\n",
       "      <td>20</td>\n",
       "      <td>239</td>\n",
       "      <td>6.1</td>\n",
       "      <td>M</td>\n",
       "    </tr>\n",
       "  </tbody>\n",
       "</table>\n",
       "</div>"
      ],
      "text/plain": [
       "      Nom  Age  Poids  Taille Genre\n",
       "0  Doudou   10     75     4.5     M\n",
       "1     Amy   15    123     5.0     F\n",
       "2  Moussa   20    239     6.1     M"
      ]
     },
     "execution_count": 2,
     "metadata": {},
     "output_type": "execute_result"
    }
   ],
   "source": [
    "dico={\"Nom\":[\"Doudou\",\"Amy\",\"Moussa\"],\"Age\":[10,15,20,],\"Poids\":[75,123,239],\"Taille\":[4.5,5.0,6.1],\"Genre\":[\"M\",\"F\",\"M\"]}\n",
    "df=pd.DataFrame(dico)\n",
    "df"
   ]
  },
  {
   "cell_type": "markdown",
   "id": "9e7ca818",
   "metadata": {},
   "source": [
    "## 2.creation dataframe animaux"
   ]
  },
  {
   "cell_type": "code",
   "execution_count": 3,
   "id": "06ad79b0",
   "metadata": {
    "collapsed": true
   },
   "outputs": [
    {
     "data": {
      "text/html": [
       "<div>\n",
       "<style scoped>\n",
       "    .dataframe tbody tr th:only-of-type {\n",
       "        vertical-align: middle;\n",
       "    }\n",
       "\n",
       "    .dataframe tbody tr th {\n",
       "        vertical-align: top;\n",
       "    }\n",
       "\n",
       "    .dataframe thead th {\n",
       "        text-align: right;\n",
       "    }\n",
       "</style>\n",
       "<table border=\"1\" class=\"dataframe\">\n",
       "  <thead>\n",
       "    <tr style=\"text-align: right;\">\n",
       "      <th></th>\n",
       "      <th>Vaches</th>\n",
       "      <th>Chevres</th>\n",
       "    </tr>\n",
       "  </thead>\n",
       "  <tbody>\n",
       "    <tr>\n",
       "      <th>an1</th>\n",
       "      <td>12</td>\n",
       "      <td>22</td>\n",
       "    </tr>\n",
       "    <tr>\n",
       "      <th>an2</th>\n",
       "      <td>10</td>\n",
       "      <td>19</td>\n",
       "    </tr>\n",
       "  </tbody>\n",
       "</table>\n",
       "</div>"
      ],
      "text/plain": [
       "     Vaches  Chevres\n",
       "an1      12       22\n",
       "an2      10       19"
      ]
     },
     "execution_count": 3,
     "metadata": {},
     "output_type": "execute_result"
    }
   ],
   "source": [
    "dico1={\"Vaches\":[12,10],\"Chevres\":[22,19]}\n",
    "df1=pd.DataFrame(dico1,index=[\"an1\",\"an2\"])\n",
    "df1"
   ]
  },
  {
   "cell_type": "markdown",
   "id": "ee68559c",
   "metadata": {},
   "source": [
    "## 3.enregitrement de dataframe en tant que fichier csv"
   ]
  },
  {
   "cell_type": "code",
   "execution_count": 4,
   "id": "61b532aa",
   "metadata": {},
   "outputs": [],
   "source": [
    "df1.to_csv(\"vache_chevre.csv\")"
   ]
  },
  {
   "cell_type": "markdown",
   "id": "e09626a7",
   "metadata": {},
   "source": [
    "## 4.transformation du fichier en dataframe"
   ]
  },
  {
   "cell_type": "code",
   "execution_count": 12,
   "id": "a1e1ce26",
   "metadata": {
    "collapsed": true
   },
   "outputs": [
    {
     "data": {
      "text/html": [
       "<div>\n",
       "<style scoped>\n",
       "    .dataframe tbody tr th:only-of-type {\n",
       "        vertical-align: middle;\n",
       "    }\n",
       "\n",
       "    .dataframe tbody tr th {\n",
       "        vertical-align: top;\n",
       "    }\n",
       "\n",
       "    .dataframe thead th {\n",
       "        text-align: right;\n",
       "    }\n",
       "</style>\n",
       "<table border=\"1\" class=\"dataframe\">\n",
       "  <thead>\n",
       "    <tr style=\"text-align: right;\">\n",
       "      <th></th>\n",
       "      <th>Vaches</th>\n",
       "      <th>Chevres</th>\n",
       "    </tr>\n",
       "  </thead>\n",
       "  <tbody>\n",
       "    <tr>\n",
       "      <th>an1</th>\n",
       "      <td>12</td>\n",
       "      <td>22</td>\n",
       "    </tr>\n",
       "    <tr>\n",
       "      <th>an2</th>\n",
       "      <td>10</td>\n",
       "      <td>19</td>\n",
       "    </tr>\n",
       "  </tbody>\n",
       "</table>\n",
       "</div>"
      ],
      "text/plain": [
       "     Vaches  Chevres\n",
       "an1      12       22\n",
       "an2      10       19"
      ]
     },
     "execution_count": 12,
     "metadata": {},
     "output_type": "execute_result"
    }
   ],
   "source": [
    "fichier=pd.read_csv(\"vache_chevre.csv\",index_col=0)\n",
    "fichier"
   ]
  },
  {
   "cell_type": "markdown",
   "id": "38f85b32",
   "metadata": {},
   "source": [
    "# exercice 2"
   ]
  },
  {
   "cell_type": "markdown",
   "id": "527067cc",
   "metadata": {},
   "source": [
    "## questions1"
   ]
  },
  {
   "cell_type": "code",
   "execution_count": 3,
   "id": "57c8d5c2",
   "metadata": {
    "collapsed": true
   },
   "outputs": [
    {
     "data": {
      "text/html": [
       "<div>\n",
       "<style scoped>\n",
       "    .dataframe tbody tr th:only-of-type {\n",
       "        vertical-align: middle;\n",
       "    }\n",
       "\n",
       "    .dataframe tbody tr th {\n",
       "        vertical-align: top;\n",
       "    }\n",
       "\n",
       "    .dataframe thead th {\n",
       "        text-align: right;\n",
       "    }\n",
       "</style>\n",
       "<table border=\"1\" class=\"dataframe\">\n",
       "  <thead>\n",
       "    <tr style=\"text-align: right;\">\n",
       "      <th></th>\n",
       "      <th>country</th>\n",
       "      <th>description</th>\n",
       "      <th>designation</th>\n",
       "      <th>points</th>\n",
       "      <th>price</th>\n",
       "      <th>province</th>\n",
       "      <th>region_1</th>\n",
       "      <th>region_2</th>\n",
       "      <th>taster_name</th>\n",
       "      <th>taster_twitter_handle</th>\n",
       "      <th>title</th>\n",
       "      <th>variety</th>\n",
       "      <th>winery</th>\n",
       "    </tr>\n",
       "  </thead>\n",
       "  <tbody>\n",
       "    <tr>\n",
       "      <th>0</th>\n",
       "      <td>Italy</td>\n",
       "      <td>Aromas include tropical fruit, broom, brimston...</td>\n",
       "      <td>Vulkà Bianco</td>\n",
       "      <td>87</td>\n",
       "      <td>NaN</td>\n",
       "      <td>Sicily &amp; Sardinia</td>\n",
       "      <td>Etna</td>\n",
       "      <td>NaN</td>\n",
       "      <td>Kerin O’Keefe</td>\n",
       "      <td>@kerinokeefe</td>\n",
       "      <td>Nicosia 2013 Vulkà Bianco  (Etna)</td>\n",
       "      <td>White Blend</td>\n",
       "      <td>Nicosia</td>\n",
       "    </tr>\n",
       "    <tr>\n",
       "      <th>1</th>\n",
       "      <td>Portugal</td>\n",
       "      <td>This is ripe and fruity, a wine that is smooth...</td>\n",
       "      <td>Avidagos</td>\n",
       "      <td>87</td>\n",
       "      <td>15.0</td>\n",
       "      <td>Douro</td>\n",
       "      <td>NaN</td>\n",
       "      <td>NaN</td>\n",
       "      <td>Roger Voss</td>\n",
       "      <td>@vossroger</td>\n",
       "      <td>Quinta dos Avidagos 2011 Avidagos Red (Douro)</td>\n",
       "      <td>Portuguese Red</td>\n",
       "      <td>Quinta dos Avidagos</td>\n",
       "    </tr>\n",
       "    <tr>\n",
       "      <th>2</th>\n",
       "      <td>US</td>\n",
       "      <td>Tart and snappy, the flavors of lime flesh and...</td>\n",
       "      <td>NaN</td>\n",
       "      <td>87</td>\n",
       "      <td>14.0</td>\n",
       "      <td>Oregon</td>\n",
       "      <td>Willamette Valley</td>\n",
       "      <td>Willamette Valley</td>\n",
       "      <td>Paul Gregutt</td>\n",
       "      <td>@paulgwine</td>\n",
       "      <td>Rainstorm 2013 Pinot Gris (Willamette Valley)</td>\n",
       "      <td>Pinot Gris</td>\n",
       "      <td>Rainstorm</td>\n",
       "    </tr>\n",
       "    <tr>\n",
       "      <th>3</th>\n",
       "      <td>US</td>\n",
       "      <td>Pineapple rind, lemon pith and orange blossom ...</td>\n",
       "      <td>Reserve Late Harvest</td>\n",
       "      <td>87</td>\n",
       "      <td>13.0</td>\n",
       "      <td>Michigan</td>\n",
       "      <td>Lake Michigan Shore</td>\n",
       "      <td>NaN</td>\n",
       "      <td>Alexander Peartree</td>\n",
       "      <td>NaN</td>\n",
       "      <td>St. Julian 2013 Reserve Late Harvest Riesling ...</td>\n",
       "      <td>Riesling</td>\n",
       "      <td>St. Julian</td>\n",
       "    </tr>\n",
       "    <tr>\n",
       "      <th>4</th>\n",
       "      <td>US</td>\n",
       "      <td>Much like the regular bottling from 2012, this...</td>\n",
       "      <td>Vintner's Reserve Wild Child Block</td>\n",
       "      <td>87</td>\n",
       "      <td>65.0</td>\n",
       "      <td>Oregon</td>\n",
       "      <td>Willamette Valley</td>\n",
       "      <td>Willamette Valley</td>\n",
       "      <td>Paul Gregutt</td>\n",
       "      <td>@paulgwine</td>\n",
       "      <td>Sweet Cheeks 2012 Vintner's Reserve Wild Child...</td>\n",
       "      <td>Pinot Noir</td>\n",
       "      <td>Sweet Cheeks</td>\n",
       "    </tr>\n",
       "    <tr>\n",
       "      <th>...</th>\n",
       "      <td>...</td>\n",
       "      <td>...</td>\n",
       "      <td>...</td>\n",
       "      <td>...</td>\n",
       "      <td>...</td>\n",
       "      <td>...</td>\n",
       "      <td>...</td>\n",
       "      <td>...</td>\n",
       "      <td>...</td>\n",
       "      <td>...</td>\n",
       "      <td>...</td>\n",
       "      <td>...</td>\n",
       "      <td>...</td>\n",
       "    </tr>\n",
       "    <tr>\n",
       "      <th>129966</th>\n",
       "      <td>Germany</td>\n",
       "      <td>Notes of honeysuckle and cantaloupe sweeten th...</td>\n",
       "      <td>Brauneberger Juffer-Sonnenuhr Spätlese</td>\n",
       "      <td>90</td>\n",
       "      <td>28.0</td>\n",
       "      <td>Mosel</td>\n",
       "      <td>NaN</td>\n",
       "      <td>NaN</td>\n",
       "      <td>Anna Lee C. Iijima</td>\n",
       "      <td>NaN</td>\n",
       "      <td>Dr. H. Thanisch (Erben Müller-Burggraef) 2013 ...</td>\n",
       "      <td>Riesling</td>\n",
       "      <td>Dr. H. Thanisch (Erben Müller-Burggraef)</td>\n",
       "    </tr>\n",
       "    <tr>\n",
       "      <th>129967</th>\n",
       "      <td>US</td>\n",
       "      <td>Citation is given as much as a decade of bottl...</td>\n",
       "      <td>NaN</td>\n",
       "      <td>90</td>\n",
       "      <td>75.0</td>\n",
       "      <td>Oregon</td>\n",
       "      <td>Oregon</td>\n",
       "      <td>Oregon Other</td>\n",
       "      <td>Paul Gregutt</td>\n",
       "      <td>@paulgwine</td>\n",
       "      <td>Citation 2004 Pinot Noir (Oregon)</td>\n",
       "      <td>Pinot Noir</td>\n",
       "      <td>Citation</td>\n",
       "    </tr>\n",
       "    <tr>\n",
       "      <th>129968</th>\n",
       "      <td>France</td>\n",
       "      <td>Well-drained gravel soil gives this wine its c...</td>\n",
       "      <td>Kritt</td>\n",
       "      <td>90</td>\n",
       "      <td>30.0</td>\n",
       "      <td>Alsace</td>\n",
       "      <td>Alsace</td>\n",
       "      <td>NaN</td>\n",
       "      <td>Roger Voss</td>\n",
       "      <td>@vossroger</td>\n",
       "      <td>Domaine Gresser 2013 Kritt Gewurztraminer (Als...</td>\n",
       "      <td>Gewürztraminer</td>\n",
       "      <td>Domaine Gresser</td>\n",
       "    </tr>\n",
       "    <tr>\n",
       "      <th>129969</th>\n",
       "      <td>France</td>\n",
       "      <td>A dry style of Pinot Gris, this is crisp with ...</td>\n",
       "      <td>NaN</td>\n",
       "      <td>90</td>\n",
       "      <td>32.0</td>\n",
       "      <td>Alsace</td>\n",
       "      <td>Alsace</td>\n",
       "      <td>NaN</td>\n",
       "      <td>Roger Voss</td>\n",
       "      <td>@vossroger</td>\n",
       "      <td>Domaine Marcel Deiss 2012 Pinot Gris (Alsace)</td>\n",
       "      <td>Pinot Gris</td>\n",
       "      <td>Domaine Marcel Deiss</td>\n",
       "    </tr>\n",
       "    <tr>\n",
       "      <th>129970</th>\n",
       "      <td>France</td>\n",
       "      <td>Big, rich and off-dry, this is powered by inte...</td>\n",
       "      <td>Lieu-dit Harth Cuvée Caroline</td>\n",
       "      <td>90</td>\n",
       "      <td>21.0</td>\n",
       "      <td>Alsace</td>\n",
       "      <td>Alsace</td>\n",
       "      <td>NaN</td>\n",
       "      <td>Roger Voss</td>\n",
       "      <td>@vossroger</td>\n",
       "      <td>Domaine Schoffit 2012 Lieu-dit Harth Cuvée Car...</td>\n",
       "      <td>Gewürztraminer</td>\n",
       "      <td>Domaine Schoffit</td>\n",
       "    </tr>\n",
       "  </tbody>\n",
       "</table>\n",
       "<p>129971 rows × 13 columns</p>\n",
       "</div>"
      ],
      "text/plain": [
       "         country                                        description  \\\n",
       "0          Italy  Aromas include tropical fruit, broom, brimston...   \n",
       "1       Portugal  This is ripe and fruity, a wine that is smooth...   \n",
       "2             US  Tart and snappy, the flavors of lime flesh and...   \n",
       "3             US  Pineapple rind, lemon pith and orange blossom ...   \n",
       "4             US  Much like the regular bottling from 2012, this...   \n",
       "...          ...                                                ...   \n",
       "129966   Germany  Notes of honeysuckle and cantaloupe sweeten th...   \n",
       "129967        US  Citation is given as much as a decade of bottl...   \n",
       "129968    France  Well-drained gravel soil gives this wine its c...   \n",
       "129969    France  A dry style of Pinot Gris, this is crisp with ...   \n",
       "129970    France  Big, rich and off-dry, this is powered by inte...   \n",
       "\n",
       "                                   designation  points  price  \\\n",
       "0                                 Vulkà Bianco      87    NaN   \n",
       "1                                     Avidagos      87   15.0   \n",
       "2                                          NaN      87   14.0   \n",
       "3                         Reserve Late Harvest      87   13.0   \n",
       "4           Vintner's Reserve Wild Child Block      87   65.0   \n",
       "...                                        ...     ...    ...   \n",
       "129966  Brauneberger Juffer-Sonnenuhr Spätlese      90   28.0   \n",
       "129967                                     NaN      90   75.0   \n",
       "129968                                   Kritt      90   30.0   \n",
       "129969                                     NaN      90   32.0   \n",
       "129970           Lieu-dit Harth Cuvée Caroline      90   21.0   \n",
       "\n",
       "                 province             region_1           region_2  \\\n",
       "0       Sicily & Sardinia                 Etna                NaN   \n",
       "1                   Douro                  NaN                NaN   \n",
       "2                  Oregon    Willamette Valley  Willamette Valley   \n",
       "3                Michigan  Lake Michigan Shore                NaN   \n",
       "4                  Oregon    Willamette Valley  Willamette Valley   \n",
       "...                   ...                  ...                ...   \n",
       "129966              Mosel                  NaN                NaN   \n",
       "129967             Oregon               Oregon       Oregon Other   \n",
       "129968             Alsace               Alsace                NaN   \n",
       "129969             Alsace               Alsace                NaN   \n",
       "129970             Alsace               Alsace                NaN   \n",
       "\n",
       "               taster_name taster_twitter_handle  \\\n",
       "0            Kerin O’Keefe          @kerinokeefe   \n",
       "1               Roger Voss            @vossroger   \n",
       "2             Paul Gregutt           @paulgwine    \n",
       "3       Alexander Peartree                   NaN   \n",
       "4             Paul Gregutt           @paulgwine    \n",
       "...                    ...                   ...   \n",
       "129966  Anna Lee C. Iijima                   NaN   \n",
       "129967        Paul Gregutt           @paulgwine    \n",
       "129968          Roger Voss            @vossroger   \n",
       "129969          Roger Voss            @vossroger   \n",
       "129970          Roger Voss            @vossroger   \n",
       "\n",
       "                                                    title         variety  \\\n",
       "0                       Nicosia 2013 Vulkà Bianco  (Etna)     White Blend   \n",
       "1           Quinta dos Avidagos 2011 Avidagos Red (Douro)  Portuguese Red   \n",
       "2           Rainstorm 2013 Pinot Gris (Willamette Valley)      Pinot Gris   \n",
       "3       St. Julian 2013 Reserve Late Harvest Riesling ...        Riesling   \n",
       "4       Sweet Cheeks 2012 Vintner's Reserve Wild Child...      Pinot Noir   \n",
       "...                                                   ...             ...   \n",
       "129966  Dr. H. Thanisch (Erben Müller-Burggraef) 2013 ...        Riesling   \n",
       "129967                  Citation 2004 Pinot Noir (Oregon)      Pinot Noir   \n",
       "129968  Domaine Gresser 2013 Kritt Gewurztraminer (Als...  Gewürztraminer   \n",
       "129969      Domaine Marcel Deiss 2012 Pinot Gris (Alsace)      Pinot Gris   \n",
       "129970  Domaine Schoffit 2012 Lieu-dit Harth Cuvée Car...  Gewürztraminer   \n",
       "\n",
       "                                          winery  \n",
       "0                                        Nicosia  \n",
       "1                            Quinta dos Avidagos  \n",
       "2                                      Rainstorm  \n",
       "3                                     St. Julian  \n",
       "4                                   Sweet Cheeks  \n",
       "...                                          ...  \n",
       "129966  Dr. H. Thanisch (Erben Müller-Burggraef)  \n",
       "129967                                  Citation  \n",
       "129968                           Domaine Gresser  \n",
       "129969                      Domaine Marcel Deiss  \n",
       "129970                          Domaine Schoffit  \n",
       "\n",
       "[129971 rows x 13 columns]"
      ]
     },
     "execution_count": 3,
     "metadata": {},
     "output_type": "execute_result"
    }
   ],
   "source": [
    "val=pd.read_csv(\"boissons_evaluees.csv\",index_col=0)\n",
    "val"
   ]
  },
  {
   "cell_type": "markdown",
   "id": "07d31662",
   "metadata": {},
   "source": [
    "## question2"
   ]
  },
  {
   "cell_type": "code",
   "execution_count": 15,
   "id": "e55dabaf",
   "metadata": {
    "collapsed": true
   },
   "outputs": [
    {
     "data": {
      "text/plain": [
       "88.0"
      ]
     },
     "execution_count": 15,
     "metadata": {},
     "output_type": "execute_result"
    }
   ],
   "source": [
    "# la mediane de la colonne points\n",
    "val.points.median()"
   ]
  },
  {
   "cell_type": "markdown",
   "id": "54d15f74",
   "metadata": {},
   "source": [
    "## qustion3"
   ]
  },
  {
   "cell_type": "code",
   "execution_count": 21,
   "id": "7516a103",
   "metadata": {
    "collapsed": true
   },
   "outputs": [
    {
     "data": {
      "text/plain": [
       "array(['Italy', 'Portugal', 'US', 'Spain', 'France', 'Germany',\n",
       "       'Argentina', 'Chile', 'Australia', 'Austria', 'South Africa',\n",
       "       'New Zealand', 'Israel', 'Hungary', 'Greece', 'Romania', 'Mexico',\n",
       "       'Canada', nan, 'Turkey', 'Czech Republic', 'Slovenia',\n",
       "       'Luxembourg', 'Croatia', 'Georgia', 'Uruguay', 'England',\n",
       "       'Lebanon', 'Serbia', 'Brazil', 'Moldova', 'Morocco', 'Peru',\n",
       "       'India', 'Bulgaria', 'Cyprus', 'Armenia', 'Switzerland',\n",
       "       'Bosnia and Herzegovina', 'Ukraine', 'Slovakia', 'Macedonia',\n",
       "       'China', 'Egypt'], dtype=object)"
      ]
     },
     "execution_count": 21,
     "metadata": {},
     "output_type": "execute_result"
    }
   ],
   "source": [
    "# les pays representes\n",
    "val.country.unique()"
   ]
  },
  {
   "cell_type": "markdown",
   "id": "a023ea2f",
   "metadata": {},
   "source": [
    "## question4"
   ]
  },
  {
   "cell_type": "code",
   "execution_count": 40,
   "id": "eaa42f7d",
   "metadata": {
    "collapsed": true
   },
   "outputs": [
    {
     "name": "stdout",
     "output_type": "stream",
     "text": [
      "la frequence de chaque paye est: US                        54504\n",
      "France                    22093\n",
      "Italy                     19540\n",
      "Spain                      6645\n",
      "Portugal                   5691\n",
      "Chile                      4472\n",
      "Argentina                  3800\n",
      "Austria                    3345\n",
      "Australia                  2329\n",
      "Germany                    2165\n",
      "New Zealand                1419\n",
      "South Africa               1401\n",
      "Israel                      505\n",
      "Greece                      466\n",
      "Canada                      257\n",
      "Hungary                     146\n",
      "Bulgaria                    141\n",
      "Romania                     120\n",
      "Uruguay                     109\n",
      "Turkey                       90\n",
      "Slovenia                     87\n",
      "Georgia                      86\n",
      "England                      74\n",
      "Croatia                      73\n",
      "Mexico                       70\n",
      "Moldova                      59\n",
      "Brazil                       52\n",
      "Lebanon                      35\n",
      "Morocco                      28\n",
      "Peru                         16\n",
      "Ukraine                      14\n",
      "Serbia                       12\n",
      "Czech Republic               12\n",
      "Macedonia                    12\n",
      "Cyprus                       11\n",
      "India                         9\n",
      "Switzerland                   7\n",
      "Luxembourg                    6\n",
      "Bosnia and Herzegovina        2\n",
      "Armenia                       2\n",
      "Slovakia                      1\n",
      "China                         1\n",
      "Egypt                         1\n",
      "Name: country, dtype: int64\n"
     ]
    },
    {
     "data": {
      "text/plain": [
       "country\n",
       "Argentina                 18\n",
       "Armenia                    2\n",
       "Australia                 21\n",
       "Austria                   17\n",
       "Bosnia and Herzegovina     2\n",
       "Brazil                    10\n",
       "Bulgaria                  11\n",
       "Canada                    13\n",
       "Chile                     16\n",
       "China                      1\n",
       "Croatia                   11\n",
       "Cyprus                     4\n",
       "Czech Republic             5\n",
       "Egypt                      1\n",
       "England                    7\n",
       "France                    21\n",
       "Georgia                   10\n",
       "Germany                   18\n",
       "Greece                    12\n",
       "Hungary                   16\n",
       "India                      6\n",
       "Israel                    15\n",
       "Italy                     21\n",
       "Lebanon                   10\n",
       "Luxembourg                 3\n",
       "Macedonia                  6\n",
       "Mexico                    13\n",
       "Moldova                   10\n",
       "Morocco                    8\n",
       "New Zealand               16\n",
       "Peru                       7\n",
       "Portugal                  21\n",
       "Romania                   10\n",
       "Serbia                     4\n",
       "Slovakia                   1\n",
       "Slovenia                  11\n",
       "South Africa              14\n",
       "Spain                     19\n",
       "Switzerland                3\n",
       "Turkey                     9\n",
       "US                        21\n",
       "Ukraine                    6\n",
       "Uruguay                   13\n",
       "dtype: int64"
      ]
     },
     "execution_count": 40,
     "metadata": {},
     "output_type": "execute_result"
    }
   ],
   "source": [
    "#la frequencede chaque pays\n",
    "F=val.country.value_counts()\n",
    "print(\"la frequence de chaque paye est:\",F)\n",
    "\n",
    "# creation de series boisson par pays\n",
    "boisson=val.groupby(\"country\").points.unique()\n",
    "boisson_par_pays=[]\n",
    "for i in  range(len(boisson.index)):\n",
    "    boisson_par_pays.append(len(boisson[i]))\n",
    "serie_boisson=Series(boisson_par_pays,index=boisson.index)\n",
    "serie_boisson\n",
    "    \n"
   ]
  },
  {
   "cell_type": "markdown",
   "id": "8d7150cb",
   "metadata": {},
   "source": [
    "## questions5"
   ]
  },
  {
   "cell_type": "code",
   "execution_count": 41,
   "id": "56ffe71b",
   "metadata": {
    "collapsed": true
   },
   "outputs": [
    {
     "data": {
      "text/plain": [
       "0               NaN\n",
       "1        -20.363389\n",
       "2        -21.363389\n",
       "3        -22.363389\n",
       "4         29.636611\n",
       "            ...    \n",
       "129966    -7.363389\n",
       "129967    39.636611\n",
       "129968    -5.363389\n",
       "129969    -3.363389\n",
       "129970   -14.363389\n",
       "Name: price, Length: 129971, dtype: float64"
      ]
     },
     "execution_count": 41,
     "metadata": {},
     "output_type": "execute_result"
    }
   ],
   "source": [
    "# creation d'une version de la colonne price \n",
    "prix_moyen=val.price.mean()\n",
    "val.price.map(lambda P:P-prix_moyen)\n",
    "              "
   ]
  },
  {
   "cell_type": "markdown",
   "id": "11a1026e",
   "metadata": {},
   "source": [
    "## quetion5"
   ]
  },
  {
   "cell_type": "code",
   "execution_count": 48,
   "id": "3879266d",
   "metadata": {
    "collapsed": true
   },
   "outputs": [
    {
     "name": "stdout",
     "output_type": "stream",
     "text": [
      "la boisson ayant le meilleur rapport qualite/prix est: ['Bandit NV Merlot (California)', 'Cramele Recas 2011 UnWineD Pinot Grigio (Viile Timisului)']\n"
     ]
    }
   ],
   "source": [
    "bois_neg=val.points/val.price\n",
    "indice_boisson=np.where(bois_neg.values==bois_neg.max())\n",
    "meil_boisson=[]\n",
    "for i in range (len(indice_boisson[0])):\n",
    "     meil_boisson.append(val.title[indice_boisson[0][i]])\n",
    "        \n",
    "print(\"la boisson ayant le meilleur rapport qualite/prix est:\",meil_boisson)        "
   ]
  },
  {
   "cell_type": "markdown",
   "id": "18f60614",
   "metadata": {},
   "source": [
    "# execrcice 3"
   ]
  },
  {
   "cell_type": "markdown",
   "id": "88685b63",
   "metadata": {},
   "source": [
    "## question1"
   ]
  },
  {
   "cell_type": "code",
   "execution_count": 52,
   "id": "0d798305",
   "metadata": {
    "collapsed": true
   },
   "outputs": [
    {
     "name": "stdout",
     "output_type": "stream",
     "text": [
      "les critiques les plus frequantssont: Int64Index([88, 87, 90, 86, 89, 91], dtype='int64')\n"
     ]
    },
    {
     "data": {
      "text/plain": [
       "taster_twitter_handle\n",
       "@AnneInVino         17\n",
       "@JoeCz              21\n",
       "@bkfiona             7\n",
       "@gordone_cellars    18\n",
       "@kerinokeefe        21\n",
       "@laurbuzz           15\n",
       "@mattkettmann       17\n",
       "@paulgwine          21\n",
       "@suskostrzewa       15\n",
       "@vboone             20\n",
       "@vossroger          21\n",
       "@wawinereport       18\n",
       "@wineschach         19\n",
       "@winewchristina      4\n",
       "@worldwineguys      16\n",
       "dtype: int64"
      ]
     },
     "execution_count": 52,
     "metadata": {},
     "output_type": "execute_result"
    }
   ],
   "source": [
    "# les critique les lpus frequants\n",
    "bf=val.points.value_counts()\n",
    "print(\"les critiques les plus frequantssont:\",bf.index[0:6])\n",
    "#Series taster_twitter_handle\n",
    "twitter_critique=val.groupby(\"taster_twitter_handle\").points.unique()\n",
    "critique_twitter=[]\n",
    "for i in range(len(twitter_critique.index)):\n",
    "    critique_twitter.append(len(twitter_critique[i]))\n",
    "series_twiter=Series(critique_twitter,index=twitter_critique.index)\n",
    "series_twiter               \n",
    "               "
   ]
  },
  {
   "cell_type": "markdown",
   "id": "fb84b2b2",
   "metadata": {},
   "source": [
    "## question2"
   ]
  },
  {
   "cell_type": "code",
   "execution_count": 8,
   "id": "a72a669f",
   "metadata": {},
   "outputs": [
    {
     "name": "stdout",
     "output_type": "stream",
     "text": [
      "entrez la somme :3\n",
      "Aucune boisson disponible pour cette somme\n",
      "entrez la somme :4\n",
      "la meilleur boisson pour cette somme est: 64590            Bandit\n",
      "126096    Cramele Recas\n",
      "Name: winery, dtype: object\n"
     ]
    }
   ],
   "source": [
    "# la meilleur boisson a acheter\n",
    "while True:\n",
    "    try:\n",
    "        s=float(input(\"entrez la somme :\"))\n",
    "        assert s>=val.price.min()\n",
    "        break\n",
    "    except AssertionError:\n",
    "        print(\"Aucune boisson disponible pour cette somme\")\n",
    "    except ValueError:\n",
    "        print(\"vous n'avez pas saisi un nombre!\")\n",
    "bois_possible=val.loc[val.loc[:,\"price\"]<=s]\n",
    "qual_prix=bois_possible.points/bois_possible.price \n",
    "bois_possible.insert(2,\"rapport_Qualite_prix\",qual_prix,allow_duplicates=False)\n",
    "meilleur=bois_possible[bois_possible.rapport_Qualite_prix.values==qual_prix.max()]\n",
    "print(\"la meilleur boisson pour cette somme est:\",meilleur.winery)\n"
   ]
  },
  {
   "cell_type": "code",
   "execution_count": 10,
   "id": "85805b8b",
   "metadata": {},
   "outputs": [
    {
     "data": {
      "text/plain": [
       "price\n",
       "4.0        86\n",
       "5.0        87\n",
       "790.0      87\n",
       "181.0      88\n",
       "3300.0     88\n",
       "         ... \n",
       "617.0     100\n",
       "450.0     100\n",
       "650.0     100\n",
       "460.0     100\n",
       "150.0     100\n",
       "Name: points, Length: 390, dtype: int64"
      ]
     },
     "execution_count": 10,
     "metadata": {},
     "output_type": "execute_result"
    }
   ],
   "source": [
    "# tri des prix\n",
    "boisson_tri=val.groupby(\"price\").points.max()\n",
    "M=boisson_tri.sort_values()\n",
    "M"
   ]
  },
  {
   "cell_type": "markdown",
   "id": "1db325dc",
   "metadata": {},
   "source": [
    "## question3"
   ]
  },
  {
   "cell_type": "code",
   "execution_count": 66,
   "id": "8c865cbe",
   "metadata": {
    "collapsed": true
   },
   "outputs": [
    {
     "name": "stdout",
     "output_type": "stream",
     "text": [
      "les prix maximum pour chaque variete est: variety\n",
      "Abouriou        75.0\n",
      "Agiorgitiko     66.0\n",
      "Aglianico      180.0\n",
      "Aidani          27.0\n",
      "Airen           10.0\n",
      "               ...  \n",
      "Zinfandel      100.0\n",
      "Zlahtina        16.0\n",
      "Zweigelt        70.0\n",
      "Çalkarası       19.0\n",
      "Žilavka         15.0\n",
      "Name: price, Length: 707, dtype: float64\n",
      "\n",
      "\n",
      "les prix maximum pour chaque variete est: variety\n",
      "Abouriou       15.0\n",
      "Agiorgitiko    10.0\n",
      "Aglianico       6.0\n",
      "Aidani         27.0\n",
      "Airen           8.0\n",
      "               ... \n",
      "Zinfandel       5.0\n",
      "Zlahtina       13.0\n",
      "Zweigelt        9.0\n",
      "Çalkarası      19.0\n",
      "Žilavka        15.0\n",
      "Name: price, Length: 707, dtype: float64\n"
     ]
    },
    {
     "data": {
      "text/html": [
       "<div>\n",
       "<style scoped>\n",
       "    .dataframe tbody tr th:only-of-type {\n",
       "        vertical-align: middle;\n",
       "    }\n",
       "\n",
       "    .dataframe tbody tr th {\n",
       "        vertical-align: top;\n",
       "    }\n",
       "\n",
       "    .dataframe thead th {\n",
       "        text-align: right;\n",
       "    }\n",
       "</style>\n",
       "<table border=\"1\" class=\"dataframe\">\n",
       "  <thead>\n",
       "    <tr style=\"text-align: right;\">\n",
       "      <th></th>\n",
       "      <th>Max</th>\n",
       "      <th>Min</th>\n",
       "    </tr>\n",
       "    <tr>\n",
       "      <th>variety</th>\n",
       "      <th></th>\n",
       "      <th></th>\n",
       "    </tr>\n",
       "  </thead>\n",
       "  <tbody>\n",
       "    <tr>\n",
       "      <th>Abouriou</th>\n",
       "      <td>75.0</td>\n",
       "      <td>15.0</td>\n",
       "    </tr>\n",
       "    <tr>\n",
       "      <th>Agiorgitiko</th>\n",
       "      <td>66.0</td>\n",
       "      <td>10.0</td>\n",
       "    </tr>\n",
       "    <tr>\n",
       "      <th>Aglianico</th>\n",
       "      <td>180.0</td>\n",
       "      <td>6.0</td>\n",
       "    </tr>\n",
       "    <tr>\n",
       "      <th>Aidani</th>\n",
       "      <td>27.0</td>\n",
       "      <td>27.0</td>\n",
       "    </tr>\n",
       "    <tr>\n",
       "      <th>Airen</th>\n",
       "      <td>10.0</td>\n",
       "      <td>8.0</td>\n",
       "    </tr>\n",
       "    <tr>\n",
       "      <th>...</th>\n",
       "      <td>...</td>\n",
       "      <td>...</td>\n",
       "    </tr>\n",
       "    <tr>\n",
       "      <th>Zinfandel</th>\n",
       "      <td>100.0</td>\n",
       "      <td>5.0</td>\n",
       "    </tr>\n",
       "    <tr>\n",
       "      <th>Zlahtina</th>\n",
       "      <td>16.0</td>\n",
       "      <td>13.0</td>\n",
       "    </tr>\n",
       "    <tr>\n",
       "      <th>Zweigelt</th>\n",
       "      <td>70.0</td>\n",
       "      <td>9.0</td>\n",
       "    </tr>\n",
       "    <tr>\n",
       "      <th>Çalkarası</th>\n",
       "      <td>19.0</td>\n",
       "      <td>19.0</td>\n",
       "    </tr>\n",
       "    <tr>\n",
       "      <th>Žilavka</th>\n",
       "      <td>15.0</td>\n",
       "      <td>15.0</td>\n",
       "    </tr>\n",
       "  </tbody>\n",
       "</table>\n",
       "<p>707 rows × 2 columns</p>\n",
       "</div>"
      ],
      "text/plain": [
       "               Max   Min\n",
       "variety                 \n",
       "Abouriou      75.0  15.0\n",
       "Agiorgitiko   66.0  10.0\n",
       "Aglianico    180.0   6.0\n",
       "Aidani        27.0  27.0\n",
       "Airen         10.0   8.0\n",
       "...            ...   ...\n",
       "Zinfandel    100.0   5.0\n",
       "Zlahtina      16.0  13.0\n",
       "Zweigelt      70.0   9.0\n",
       "Çalkarası     19.0  19.0\n",
       "Žilavka       15.0  15.0\n",
       "\n",
       "[707 rows x 2 columns]"
      ]
     },
     "execution_count": 66,
     "metadata": {},
     "output_type": "execute_result"
    }
   ],
   "source": [
    "# les prix maximum pour chaque variete\n",
    "prix_max=val.groupby(\"variety\").price.max()\n",
    "print(\"les prix maximum pour chaque variete est:\",prix_max)\n",
    "#les prix minimum pour chaque variete\n",
    "prix_min=val.groupby(\"variety\").price.min()\n",
    "print(\"\\n\\nles prix maximum pour chaque variete est:\",prix_min)\n",
    "# cration de dataframe\n",
    "dico={\"Max\":prix_max,\"Min\":prix_min}\n",
    "df=pd.DataFrame(dico)\n",
    "df\n"
   ]
  },
  {
   "cell_type": "markdown",
   "id": "a15149d4",
   "metadata": {},
   "source": [
    "## qestion4"
   ]
  },
  {
   "cell_type": "code",
   "execution_count": 72,
   "id": "9804c8bb",
   "metadata": {
    "collapsed": true
   },
   "outputs": [
    {
     "data": {
      "text/plain": [
       "taster_name\n",
       "Alexander Peartree    85.855422\n",
       "Anna Lee C. Iijima    88.415629\n",
       "Anne Krebiehl MW      90.562551\n",
       "Carrie Dykes          86.395683\n",
       "Christina Pickard     87.833333\n",
       "Fiona Adams           86.888889\n",
       "Jeff Jenssen          88.319756\n",
       "Jim Gordon            88.626287\n",
       "Joe Czerwinski        88.536235\n",
       "Kerin O’Keefe         88.867947\n",
       "Lauren Buzzeo         87.739510\n",
       "Matt Kettmann         90.008686\n",
       "Michael Schachner     86.907493\n",
       "Mike DeSimone         89.101167\n",
       "Paul Gregutt          89.082564\n",
       "Roger Voss            88.708003\n",
       "Sean P. Sullivan      88.755739\n",
       "Susan Kostrzewa       86.609217\n",
       "Virginie Boone        89.213379\n",
       "Name: points, dtype: float64"
      ]
     },
     "execution_count": 72,
     "metadata": {},
     "output_type": "execute_result"
    }
   ],
   "source": [
    "#Series des commentatuers\n",
    "note=val.groupby(\"taster_name\").points.mean()\n",
    "note"
   ]
  },
  {
   "cell_type": "markdown",
   "id": "097792ba",
   "metadata": {},
   "source": [
    "## question5"
   ]
  },
  {
   "cell_type": "code",
   "execution_count": 68,
   "id": "af809f9b",
   "metadata": {
    "collapsed": true
   },
   "outputs": [
    {
     "data": {
      "text/plain": [
       "dtype('int64')"
      ]
     },
     "execution_count": 68,
     "metadata": {},
     "output_type": "execute_result"
    }
   ],
   "source": [
    "# le type de donnees de la colonne points\n",
    "val.points.dtype"
   ]
  },
  {
   "cell_type": "code",
   "execution_count": 4,
   "id": "4e4a42e3",
   "metadata": {},
   "outputs": [
    {
     "name": "stdout",
     "output_type": "stream",
     "text": [
      "sur 129971 avis il manque  8996\n"
     ]
    }
   ],
   "source": [
    "#les prix manquants\n",
    "prix_manquant=val[pd.isnull(val.price)]\n",
    "print(\"sur\",len(val.price),\"avis il manque \",len(prix_manquant))"
   ]
  }
 ],
 "metadata": {
  "kernelspec": {
   "display_name": "Python 3 (ipykernel)",
   "language": "python",
   "name": "python3"
  },
  "language_info": {
   "codemirror_mode": {
    "name": "ipython",
    "version": 3
   },
   "file_extension": ".py",
   "mimetype": "text/x-python",
   "name": "python",
   "nbconvert_exporter": "python",
   "pygments_lexer": "ipython3",
   "version": "3.9.7"
  }
 },
 "nbformat": 4,
 "nbformat_minor": 5
}
